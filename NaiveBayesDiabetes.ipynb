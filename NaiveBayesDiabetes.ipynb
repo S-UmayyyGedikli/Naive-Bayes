{
 "cells": [
  {
   "cell_type": "code",
   "execution_count": 1,
   "id": "5747fa4e-7e6e-4008-9bcc-076186a88a8e",
   "metadata": {
    "tags": []
   },
   "outputs": [],
   "source": [
    "import numpy as np\n",
    "import pandas as pd\n",
    "from sklearn.model_selection import train_test_split\n",
    "from sklearn.preprocessing import MinMaxScaler\n",
    "from sklearn.feature_selection import SelectKBest, chi2\n",
    "from sklearn.naive_bayes import GaussianNB\n",
    "from sklearn.model_selection import GridSearchCV\n",
    "from sklearn.metrics import accuracy_score, confusion_matrix"
   ]
  },
  {
   "cell_type": "code",
   "execution_count": 2,
   "id": "7136ffcb-fc2d-4570-bbf3-e40b6370722d",
   "metadata": {
    "tags": []
   },
   "outputs": [],
   "source": [
    "df = pd.read_csv(\"diabetes.csv\")"
   ]
  },
  {
   "cell_type": "code",
   "execution_count": 3,
   "id": "978db522-bedf-4e13-abd3-e39162a0cd9b",
   "metadata": {
    "tags": []
   },
   "outputs": [],
   "source": [
    "test_instance_index = np.random.randint(0, len(df))  # Rastgele bir indeks seçiyoruz\n",
    "test_instance = df.iloc[test_instance_index]  # Seçilen rastgele örneği alıyoruz\n",
    "df = df.drop(test_instance_index)"
   ]
  },
  {
   "cell_type": "code",
   "execution_count": 4,
   "id": "0db4c90c-d269-425f-b784-a3e46aea1c7d",
   "metadata": {},
   "outputs": [],
   "source": [
    "X = df.drop(['Outcome'], axis=1)\n",
    "y = df[\"Outcome\"] "
   ]
  },
  {
   "cell_type": "code",
   "execution_count": 5,
   "id": "398b383d-e73d-4e28-9fdb-c2adc27bd68a",
   "metadata": {
    "tags": []
   },
   "outputs": [],
   "source": [
    "X_train, X_test, y_train, y_test = train_test_split(X, y, test_size=0.20, random_state=42)"
   ]
  },
  {
   "cell_type": "code",
   "execution_count": 6,
   "id": "2a6b5685-8364-417f-b145-c1baa199dbbb",
   "metadata": {
    "tags": []
   },
   "outputs": [],
   "source": [
    "gnb = GaussianNB()\n",
    "gnb.fit(X_train, y_train)\n",
    "y_pred = gnb.predict(X_test)\n",
    "accuracy_original = accuracy_score(y_test, y_pred)\n",
    "conf_matrix_original = confusion_matrix(y_test, y_pred)"
   ]
  },
  {
   "cell_type": "code",
   "execution_count": 7,
   "id": "f071d8ce-1a31-48c4-8cdd-fb486a1aa5d3",
   "metadata": {
    "tags": []
   },
   "outputs": [],
   "source": [
    "scaler_minmax = MinMaxScaler()\n",
    "X_train_minmax = scaler_minmax.fit_transform(X_train)\n",
    "X_test_minmax = scaler_minmax.transform(X_test)"
   ]
  },
  {
   "cell_type": "code",
   "execution_count": 8,
   "id": "15a935eb-8b6e-4de2-9487-1517e45234f5",
   "metadata": {
    "tags": []
   },
   "outputs": [],
   "source": [
    "gnb_minmax = GaussianNB()\n",
    "gnb_minmax.fit(X_train_minmax, y_train)\n",
    "y_pred_minmax = gnb_minmax.predict(X_test_minmax)\n",
    "accuracy_minmax = accuracy_score(y_test, y_pred_minmax)\n",
    "conf_matrix_minmax = confusion_matrix(y_test, y_pred_minmax)"
   ]
  },
  {
   "cell_type": "code",
   "execution_count": 9,
   "id": "441ee2e0-be27-4ed7-8595-795e980c1896",
   "metadata": {
    "tags": []
   },
   "outputs": [],
   "source": [
    "param_grid = {'var_smoothing': np.logspace(0,-9, num=100)}\n",
    "grid_search = GridSearchCV(gnb, param_grid, cv=5, scoring='accuracy')\n",
    "grid_search.fit(X_train, y_train)\n",
    "best_model = grid_search.best_estimator_\n",
    "y_pred_gridsearch = best_model.predict(X_test)\n",
    "accuracy_gridsearch = accuracy_score(y_test, y_pred_gridsearch)\n",
    "conf_matrix_gridsearch = confusion_matrix(y_test, y_pred_gridsearch)"
   ]
  },
  {
   "cell_type": "code",
   "execution_count": 10,
   "id": "15f2c673-d241-4509-8780-210685558030",
   "metadata": {
    "tags": []
   },
   "outputs": [],
   "source": [
    "select_features = SelectKBest(score_func=chi2, k=4) \n",
    "X_train_features = select_features.fit_transform(X_train, y_train)\n",
    "X_test_features = select_features.transform(X_test)"
   ]
  },
  {
   "cell_type": "code",
   "execution_count": 15,
   "id": "41cf2db9-ec93-4537-9c0f-1382a07fe296",
   "metadata": {
    "tags": []
   },
   "outputs": [],
   "source": [
    "gnb_final = GaussianNB()\n",
    "gnb_final.fit(X_train_features, y_train)\n",
    "y_pred_final = gnb_final.predict(X_test_features)\n",
    "accuracy_final = accuracy_score(y_test, y_pred_final)\n",
    "conf_matrix_final = confusion_matrix(y_test, y_pred_final)"
   ]
  },
  {
   "cell_type": "code",
   "execution_count": 17,
   "id": "3d6ab2b0-a09e-45ac-b979-3fd4ad59dec0",
   "metadata": {
    "tags": []
   },
   "outputs": [
    {
     "name": "stdout",
     "output_type": "stream",
     "text": [
      " Orijinal Model Doğruluğu: 0.7857142857142857\n",
      "Confusion Matrix (Orijinal Model):\n",
      " [[87 18]\n",
      " [15 34]]\n",
      "\n",
      " Min-Max Normalizasyon Sonrası Model Doğruluğu: 0.7857142857142857\n",
      "Confusion Matrix (Min-Max Normalizasyon Sonrası Model):\n",
      " [[87 18]\n",
      " [15 34]]\n",
      "\n",
      " GridSearchCV Sonrası Model Doğruluğu: 0.7792207792207793\n",
      "Confusion Matrix (GridSearchCV Sonrası Model):\n",
      " [[86 19]\n",
      " [15 34]]\n",
      "\n",
      " Özellik Seçimi Sonrası Model Doğruluğu: 0.7467532467532467\n",
      "Confusion Matrix (Özellik Seçimi Sonrası Model):\n",
      " [[87 18]\n",
      " [21 28]]\n"
     ]
    }
   ],
   "source": [
    "print(\" Orijinal Model Doğruluğu:\", accuracy_original)\n",
    "print(\"Confusion Matrix (Orijinal Model):\\n\", conf_matrix_original)\n",
    "print(\"\\n Min-Max Normalizasyon Sonrası Model Doğruluğu:\", accuracy_minmax)\n",
    "print(\"Confusion Matrix (Min-Max Normalizasyon Sonrası Model):\\n\", conf_matrix_minmax)\n",
    "print(\"\\n GridSearchCV Sonrası Model Doğruluğu:\", accuracy_gridsearch)\n",
    "print(\"Confusion Matrix (GridSearchCV Sonrası Model):\\n\", conf_matrix_gridsearch)\n",
    "print(\"\\n Özellik Seçimi Sonrası Model Doğruluğu:\", accuracy_final)\n",
    "print(\"Confusion Matrix (Özellik Seçimi Sonrası Model):\\n\", conf_matrix_final)"
   ]
  },
  {
   "cell_type": "code",
   "execution_count": null,
   "id": "de878768-876b-4bb6-9e86-ac47d23f7280",
   "metadata": {},
   "outputs": [],
   "source": []
  }
 ],
 "metadata": {
  "kernelspec": {
   "display_name": "Python 3 (ipykernel)",
   "language": "python",
   "name": "python3"
  },
  "language_info": {
   "codemirror_mode": {
    "name": "ipython",
    "version": 3
   },
   "file_extension": ".py",
   "mimetype": "text/x-python",
   "name": "python",
   "nbconvert_exporter": "python",
   "pygments_lexer": "ipython3",
   "version": "3.11.5"
  }
 },
 "nbformat": 4,
 "nbformat_minor": 5
}
